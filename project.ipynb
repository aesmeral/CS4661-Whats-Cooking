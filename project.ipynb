{
 "cells": [
  {
   "cell_type": "code",
   "execution_count": 3,
   "id": "9a714500-4b85-43d9-9b88-922f22ac783c",
   "metadata": {},
   "outputs": [],
   "source": [
    "import numpy as np\n",
    "import pandas as pd\n",
    "import json\n",
    "import os"
   ]
  },
  {
   "cell_type": "code",
   "execution_count": 2,
   "id": "07ef7255-fb8d-4210-b173-89e49e5f3ce5",
   "metadata": {},
   "outputs": [
    {
     "name": "stdout",
     "output_type": "stream",
     "text": [
      "['.ipynb_checkpoints', 'train.json', 'test.json', 'sample_submission.csv', 'README.md', 'Untitled.ipynb', '.git']\n"
     ]
    }
   ],
   "source": [
    "print(os.listdir('.'))"
   ]
  },
  {
   "cell_type": "code",
   "execution_count": 8,
   "id": "f3263d7d-5eaf-472f-baf5-8c1902fe329f",
   "metadata": {},
   "outputs": [],
   "source": [
    "training_data = pd.read_json('./train.json')\n",
    "testing_data = pd.read_json('./test.json')"
   ]
  },
  {
   "cell_type": "code",
   "execution_count": 9,
   "id": "7005c680-eca5-4c74-b640-fb1767b35cb3",
   "metadata": {},
   "outputs": [
    {
     "name": "stdout",
     "output_type": "stream",
     "text": [
      "Index(['id', 'cuisine', 'ingredients'], dtype='object')\n"
     ]
    }
   ],
   "source": [
    "print(training_data.keys())"
   ]
  },
  {
   "cell_type": "code",
   "execution_count": 14,
   "id": "5271ed9f-f691-4eb3-a627-8a25c352f5a4",
   "metadata": {},
   "outputs": [
    {
     "name": "stdout",
     "output_type": "stream",
     "text": [
      "0              greek\n",
      "1        southern_us\n",
      "2           filipino\n",
      "3             indian\n",
      "4             indian\n",
      "            ...     \n",
      "39769          irish\n",
      "39770        italian\n",
      "39771          irish\n",
      "39772        chinese\n",
      "39773        mexican\n",
      "Name: cuisine, Length: 39774, dtype: object\n"
     ]
    }
   ],
   "source": [
    "print(training_data['cuisine'])"
   ]
  },
  {
   "cell_type": "code",
   "execution_count": 15,
   "id": "3c9a8a05-cf36-43fe-a55c-89eb8a9da54d",
   "metadata": {},
   "outputs": [
    {
     "name": "stdout",
     "output_type": "stream",
     "text": [
      "0        [romaine lettuce, black olives, grape tomatoes...\n",
      "1        [plain flour, ground pepper, salt, tomatoes, g...\n",
      "2        [eggs, pepper, salt, mayonaise, cooking oil, g...\n",
      "3                      [water, vegetable oil, wheat, salt]\n",
      "4        [black pepper, shallots, cornflour, cayenne pe...\n",
      "                               ...                        \n",
      "39769    [light brown sugar, granulated sugar, butter, ...\n",
      "39770    [KRAFT Zesty Italian Dressing, purple onion, b...\n",
      "39771    [eggs, citrus fruit, raisins, sourdough starte...\n",
      "39772    [boneless chicken skinless thigh, minced garli...\n",
      "39773    [green chile, jalapeno chilies, onions, ground...\n",
      "Name: ingredients, Length: 39774, dtype: object\n"
     ]
    }
   ],
   "source": [
    "print(training_data['ingredients'])"
   ]
  },
  {
   "cell_type": "code",
   "execution_count": null,
   "id": "a2b3c716-8602-4173-b24c-141f95a84fdd",
   "metadata": {},
   "outputs": [],
   "source": []
  }
 ],
 "metadata": {
  "kernelspec": {
   "display_name": "Python 3 (ipykernel)",
   "language": "python",
   "name": "python3"
  },
  "language_info": {
   "codemirror_mode": {
    "name": "ipython",
    "version": 3
   },
   "file_extension": ".py",
   "mimetype": "text/x-python",
   "name": "python",
   "nbconvert_exporter": "python",
   "pygments_lexer": "ipython3",
   "version": "3.11.5"
  }
 },
 "nbformat": 4,
 "nbformat_minor": 5
}
